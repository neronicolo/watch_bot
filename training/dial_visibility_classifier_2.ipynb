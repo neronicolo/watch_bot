{
 "nbformat": 4,
 "nbformat_minor": 2,
 "metadata": {
  "language_info": {
   "name": "python",
   "codemirror_mode": {
    "name": "ipython",
    "version": 3
   },
   "version": "3.6.10-final"
  },
  "orig_nbformat": 2,
  "file_extension": ".py",
  "mimetype": "text/x-python",
  "name": "python",
  "npconvert_exporter": "python",
  "pygments_lexer": "ipython3",
  "version": 3,
  "kernelspec": {
   "name": "fastai",
   "display_name": "Python (fastai)"
  }
 },
 "cells": [
  {
   "cell_type": "markdown",
   "metadata": {},
   "source": [
    "## **Importing Libraries**"
   ]
  },
  {
   "cell_type": "code",
   "execution_count": 1,
   "metadata": {},
   "outputs": [],
   "source": [
    "# Put these at the top of every notebook, to get automatic reloading and inline plotting\n",
    "%reload_ext autoreload\n",
    "%autoreload 2\n",
    "%matplotlib inline"
   ]
  },
  {
   "cell_type": "code",
   "execution_count": 2,
   "metadata": {},
   "outputs": [],
   "source": [
    "from fastai.vision import *\n",
    "from fastai.metrics import error_rate"
   ]
  },
  {
   "cell_type": "markdown",
   "metadata": {},
   "source": [
    "# **Stage 1**"
   ]
  },
  {
   "cell_type": "markdown",
   "metadata": {},
   "source": [
    "## **Data Setup and Preview**"
   ]
  },
  {
   "cell_type": "code",
   "execution_count": 3,
   "metadata": {},
   "outputs": [],
   "source": [
    "data_path = Path.home()/'notebooks/programming/data/watch_bot/'\n",
    "csv_path_1 = Path.home()/'notebooks/programming/projects/watch_bot/data_prep/file_attribs_watch_bot.csv'\n",
    "csv_path_2 = Path.home()/'notebooks/programming/projects/watch_bot/data_prep/chrono24_dial_visibility_most_uncertain.csv'\n",
    ""
   ]
  },
  {
   "cell_type": "code",
   "execution_count": 4,
   "metadata": {},
   "outputs": [
    {
     "output_type": "execute_result",
     "data": {
      "text/plain": "   image_size_x  image_size_y  \\\n0           960           960   \n1           960           960   \n2           960           960   \n3           720           960   \n4           720           960   \n\n                                                name  dial_visibility  like  \\\n0  nomos_1/nomos/_without_model/nomos_@_the_loupe...              1.0   1.0   \n1  nomos_1/nomos/_without_model/nomos_@_the_loupe...              1.0   0.0   \n2  nomos_1/nomos/_without_model/nomos_@_the_loupe...              0.0   0.0   \n3  nomos_1/nomos/_without_model/nomos_beta_11156_...              1.0   0.0   \n4  nomos_1/nomos/_without_model/nomos_beta_11156_...              1.0   0.0   \n\n   image_quality  \n0            1.0  \n1            1.0  \n2            0.0  \n3            1.0  \n4            1.0  ",
      "text/html": "<div>\n<style scoped>\n    .dataframe tbody tr th:only-of-type {\n        vertical-align: middle;\n    }\n\n    .dataframe tbody tr th {\n        vertical-align: top;\n    }\n\n    .dataframe thead th {\n        text-align: right;\n    }\n</style>\n<table border=\"1\" class=\"dataframe\">\n  <thead>\n    <tr style=\"text-align: right;\">\n      <th></th>\n      <th>image_size_x</th>\n      <th>image_size_y</th>\n      <th>name</th>\n      <th>dial_visibility</th>\n      <th>like</th>\n      <th>image_quality</th>\n    </tr>\n  </thead>\n  <tbody>\n    <tr>\n      <th>0</th>\n      <td>960</td>\n      <td>960</td>\n      <td>nomos_1/nomos/_without_model/nomos_@_the_loupe...</td>\n      <td>1.0</td>\n      <td>1.0</td>\n      <td>1.0</td>\n    </tr>\n    <tr>\n      <th>1</th>\n      <td>960</td>\n      <td>960</td>\n      <td>nomos_1/nomos/_without_model/nomos_@_the_loupe...</td>\n      <td>1.0</td>\n      <td>0.0</td>\n      <td>1.0</td>\n    </tr>\n    <tr>\n      <th>2</th>\n      <td>960</td>\n      <td>960</td>\n      <td>nomos_1/nomos/_without_model/nomos_@_the_loupe...</td>\n      <td>0.0</td>\n      <td>0.0</td>\n      <td>0.0</td>\n    </tr>\n    <tr>\n      <th>3</th>\n      <td>720</td>\n      <td>960</td>\n      <td>nomos_1/nomos/_without_model/nomos_beta_11156_...</td>\n      <td>1.0</td>\n      <td>0.0</td>\n      <td>1.0</td>\n    </tr>\n    <tr>\n      <th>4</th>\n      <td>720</td>\n      <td>960</td>\n      <td>nomos_1/nomos/_without_model/nomos_beta_11156_...</td>\n      <td>1.0</td>\n      <td>0.0</td>\n      <td>1.0</td>\n    </tr>\n  </tbody>\n</table>\n</div>"
     },
     "metadata": {},
     "execution_count": 4
    }
   ],
   "source": [
    "df1 = pd.read_csv(csv_path_1)\n",
    "df1.head()"
   ]
  },
  {
   "cell_type": "code",
   "execution_count": 5,
   "metadata": {},
   "outputs": [
    {
     "output_type": "execute_result",
     "data": {
      "text/plain": "(11973, 6)"
     },
     "metadata": {},
     "execution_count": 5
    }
   ],
   "source": [
    "df1.shape"
   ]
  },
  {
   "cell_type": "code",
   "execution_count": 6,
   "metadata": {},
   "outputs": [
    {
     "output_type": "execute_result",
     "data": {
      "text/plain": "   image_size_x  image_size_y  \\\n0           640           480   \n1          1200           718   \n2           640           480   \n3           640           480   \n4           640           480   \n\n                                                name  dial_visibility  \\\n0  chrono24_dial_visibility_most_uncertain/a._lan...              1.0   \n1  chrono24_dial_visibility_most_uncertain/a._lan...              0.0   \n2  chrono24_dial_visibility_most_uncertain/a._lan...              0.0   \n3  chrono24_dial_visibility_most_uncertain/a._lan...              0.0   \n4  chrono24_dial_visibility_most_uncertain/a._lan...              0.0   \n\n   dial_visibility_p_0  dial_visibility_p_1  like  like_p_0  like_p_1  \\\n0             0.473409             0.526591  -1.0        -1        -1   \n1             0.480346             0.519654  -1.0        -1        -1   \n2             0.471942             0.528058  -1.0        -1        -1   \n3             0.477966             0.522034  -1.0        -1        -1   \n4             0.471942             0.528058  -1.0        -1        -1   \n\n   image_quality  \n0           -1.0  \n1           -1.0  \n2           -1.0  \n3           -1.0  \n4           -1.0  ",
      "text/html": "<div>\n<style scoped>\n    .dataframe tbody tr th:only-of-type {\n        vertical-align: middle;\n    }\n\n    .dataframe tbody tr th {\n        vertical-align: top;\n    }\n\n    .dataframe thead th {\n        text-align: right;\n    }\n</style>\n<table border=\"1\" class=\"dataframe\">\n  <thead>\n    <tr style=\"text-align: right;\">\n      <th></th>\n      <th>image_size_x</th>\n      <th>image_size_y</th>\n      <th>name</th>\n      <th>dial_visibility</th>\n      <th>dial_visibility_p_0</th>\n      <th>dial_visibility_p_1</th>\n      <th>like</th>\n      <th>like_p_0</th>\n      <th>like_p_1</th>\n      <th>image_quality</th>\n    </tr>\n  </thead>\n  <tbody>\n    <tr>\n      <th>0</th>\n      <td>640</td>\n      <td>480</td>\n      <td>chrono24_dial_visibility_most_uncertain/a._lan...</td>\n      <td>1.0</td>\n      <td>0.473409</td>\n      <td>0.526591</td>\n      <td>-1.0</td>\n      <td>-1</td>\n      <td>-1</td>\n      <td>-1.0</td>\n    </tr>\n    <tr>\n      <th>1</th>\n      <td>1200</td>\n      <td>718</td>\n      <td>chrono24_dial_visibility_most_uncertain/a._lan...</td>\n      <td>0.0</td>\n      <td>0.480346</td>\n      <td>0.519654</td>\n      <td>-1.0</td>\n      <td>-1</td>\n      <td>-1</td>\n      <td>-1.0</td>\n    </tr>\n    <tr>\n      <th>2</th>\n      <td>640</td>\n      <td>480</td>\n      <td>chrono24_dial_visibility_most_uncertain/a._lan...</td>\n      <td>0.0</td>\n      <td>0.471942</td>\n      <td>0.528058</td>\n      <td>-1.0</td>\n      <td>-1</td>\n      <td>-1</td>\n      <td>-1.0</td>\n    </tr>\n    <tr>\n      <th>3</th>\n      <td>640</td>\n      <td>480</td>\n      <td>chrono24_dial_visibility_most_uncertain/a._lan...</td>\n      <td>0.0</td>\n      <td>0.477966</td>\n      <td>0.522034</td>\n      <td>-1.0</td>\n      <td>-1</td>\n      <td>-1</td>\n      <td>-1.0</td>\n    </tr>\n    <tr>\n      <th>4</th>\n      <td>640</td>\n      <td>480</td>\n      <td>chrono24_dial_visibility_most_uncertain/a._lan...</td>\n      <td>0.0</td>\n      <td>0.471942</td>\n      <td>0.528058</td>\n      <td>-1.0</td>\n      <td>-1</td>\n      <td>-1</td>\n      <td>-1.0</td>\n    </tr>\n  </tbody>\n</table>\n</div>"
     },
     "metadata": {},
     "execution_count": 6
    }
   ],
   "source": [
    "df2 = pd.read_csv(csv_path_2)\n",
    "df2.head()"
   ]
  },
  {
   "cell_type": "code",
   "execution_count": 7,
   "metadata": {},
   "outputs": [
    {
     "output_type": "execute_result",
     "data": {
      "text/plain": "(17379, 10)"
     },
     "metadata": {},
     "execution_count": 7
    }
   ],
   "source": [
    "df2.shape"
   ]
  },
  {
   "cell_type": "code",
   "execution_count": 8,
   "metadata": {},
   "outputs": [
    {
     "output_type": "execute_result",
     "data": {
      "text/plain": "       image_size_x  image_size_y  \\\n0               960           960   \n1               960           960   \n2               960           960   \n3               720           960   \n4               720           960   \n...             ...           ...   \n29347           960           960   \n29348           960           960   \n29349           767           960   \n29350           720           960   \n29351          1123           471   \n\n                                                    name  dial_visibility  \\\n0      nomos_1/nomos/_without_model/nomos_@_the_loupe...              1.0   \n1      nomos_1/nomos/_without_model/nomos_@_the_loupe...              1.0   \n2      nomos_1/nomos/_without_model/nomos_@_the_loupe...              0.0   \n3      nomos_1/nomos/_without_model/nomos_beta_11156_...              1.0   \n4      nomos_1/nomos/_without_model/nomos_beta_11156_...              1.0   \n...                                                  ...              ...   \n29347  chrono24_dial_visibility_most_uncertain/zenith...              1.0   \n29348  chrono24_dial_visibility_most_uncertain/zenith...              1.0   \n29349  chrono24_dial_visibility_most_uncertain/zenith...              0.0   \n29350  chrono24_dial_visibility_most_uncertain/zenith...              0.0   \n29351  chrono24_dial_visibility_most_uncertain/zenith...              1.0   \n\n       like  image_quality  \n0       1.0            1.0  \n1       0.0            1.0  \n2       0.0            0.0  \n3       0.0            1.0  \n4       0.0            1.0  \n...     ...            ...  \n29347  -1.0           -1.0  \n29348  -1.0           -1.0  \n29349  -1.0           -1.0  \n29350  -1.0           -1.0  \n29351  -1.0           -1.0  \n\n[29352 rows x 6 columns]",
      "text/html": "<div>\n<style scoped>\n    .dataframe tbody tr th:only-of-type {\n        vertical-align: middle;\n    }\n\n    .dataframe tbody tr th {\n        vertical-align: top;\n    }\n\n    .dataframe thead th {\n        text-align: right;\n    }\n</style>\n<table border=\"1\" class=\"dataframe\">\n  <thead>\n    <tr style=\"text-align: right;\">\n      <th></th>\n      <th>image_size_x</th>\n      <th>image_size_y</th>\n      <th>name</th>\n      <th>dial_visibility</th>\n      <th>like</th>\n      <th>image_quality</th>\n    </tr>\n  </thead>\n  <tbody>\n    <tr>\n      <th>0</th>\n      <td>960</td>\n      <td>960</td>\n      <td>nomos_1/nomos/_without_model/nomos_@_the_loupe...</td>\n      <td>1.0</td>\n      <td>1.0</td>\n      <td>1.0</td>\n    </tr>\n    <tr>\n      <th>1</th>\n      <td>960</td>\n      <td>960</td>\n      <td>nomos_1/nomos/_without_model/nomos_@_the_loupe...</td>\n      <td>1.0</td>\n      <td>0.0</td>\n      <td>1.0</td>\n    </tr>\n    <tr>\n      <th>2</th>\n      <td>960</td>\n      <td>960</td>\n      <td>nomos_1/nomos/_without_model/nomos_@_the_loupe...</td>\n      <td>0.0</td>\n      <td>0.0</td>\n      <td>0.0</td>\n    </tr>\n    <tr>\n      <th>3</th>\n      <td>720</td>\n      <td>960</td>\n      <td>nomos_1/nomos/_without_model/nomos_beta_11156_...</td>\n      <td>1.0</td>\n      <td>0.0</td>\n      <td>1.0</td>\n    </tr>\n    <tr>\n      <th>4</th>\n      <td>720</td>\n      <td>960</td>\n      <td>nomos_1/nomos/_without_model/nomos_beta_11156_...</td>\n      <td>1.0</td>\n      <td>0.0</td>\n      <td>1.0</td>\n    </tr>\n    <tr>\n      <th>...</th>\n      <td>...</td>\n      <td>...</td>\n      <td>...</td>\n      <td>...</td>\n      <td>...</td>\n      <td>...</td>\n    </tr>\n    <tr>\n      <th>29347</th>\n      <td>960</td>\n      <td>960</td>\n      <td>chrono24_dial_visibility_most_uncertain/zenith...</td>\n      <td>1.0</td>\n      <td>-1.0</td>\n      <td>-1.0</td>\n    </tr>\n    <tr>\n      <th>29348</th>\n      <td>960</td>\n      <td>960</td>\n      <td>chrono24_dial_visibility_most_uncertain/zenith...</td>\n      <td>1.0</td>\n      <td>-1.0</td>\n      <td>-1.0</td>\n    </tr>\n    <tr>\n      <th>29349</th>\n      <td>767</td>\n      <td>960</td>\n      <td>chrono24_dial_visibility_most_uncertain/zenith...</td>\n      <td>0.0</td>\n      <td>-1.0</td>\n      <td>-1.0</td>\n    </tr>\n    <tr>\n      <th>29350</th>\n      <td>720</td>\n      <td>960</td>\n      <td>chrono24_dial_visibility_most_uncertain/zenith...</td>\n      <td>0.0</td>\n      <td>-1.0</td>\n      <td>-1.0</td>\n    </tr>\n    <tr>\n      <th>29351</th>\n      <td>1123</td>\n      <td>471</td>\n      <td>chrono24_dial_visibility_most_uncertain/zenith...</td>\n      <td>1.0</td>\n      <td>-1.0</td>\n      <td>-1.0</td>\n    </tr>\n  </tbody>\n</table>\n<p>29352 rows × 6 columns</p>\n</div>"
     },
     "metadata": {},
     "execution_count": 8
    }
   ],
   "source": [
    "df = pd.concat([df1, df2], ignore_index=True)\n",
    "df = df.dropna(axis=1, how='any')\n",
    "df"
   ]
  },
  {
   "cell_type": "code",
   "execution_count": null,
   "metadata": {},
   "outputs": [],
   "source": [
    "bs = 64\n",
    "size = 128\n",
    "xform = "
   ]
  }
 ]
}