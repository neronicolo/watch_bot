{
 "nbformat": 4,
 "nbformat_minor": 2,
 "metadata": {
  "language_info": {
   "name": "python",
   "codemirror_mode": {
    "name": "ipython",
    "version": 3
   },
   "version": "3.7.5-final"
  },
  "orig_nbformat": 2,
  "file_extension": ".py",
  "mimetype": "text/x-python",
  "name": "python",
  "npconvert_exporter": "python",
  "pygments_lexer": "ipython3",
  "version": 3,
  "kernelspec": {
   "name": "python3",
   "display_name": "Python 3"
  }
 },
 "cells": [
  {
   "cell_type": "code",
   "execution_count": 4,
   "metadata": {},
   "outputs": [],
   "source": [
    "from pathlib import Path\n",
    "import pandas as pd\n",
    ""
   ]
  },
  {
   "cell_type": "code",
   "execution_count": 21,
   "metadata": {},
   "outputs": [],
   "source": [
    "data_path = Path.home()/'programming/data/chrono24'\n",
    "fa_chrono24_csv_path = data_path/'file_attribs_chrono24.csv'\n",
    "fa_chrono24_add_inference_csv_path = data_path/'file_attribs_chrono24_add_inference.csv'\n",
    "dv_inference_csv_path = data_path/'dial_visibility_inference.csv'"
   ]
  },
  {
   "cell_type": "code",
   "execution_count": 10,
   "metadata": {},
   "outputs": [
    {
     "output_type": "execute_result",
     "data": {
      "text/plain": "   image_size_x  image_size_y  \\\n0           800           708   \n1           800           731   \n2           800           729   \n3           800           685   \n4           800           708   \n\n                                                name  \n0  a._lange_&_soehne_1/a._lange_&_soehne/1815/a._...  \n1  a._lange_&_soehne_1/a._lange_&_soehne/1815/a._...  \n2  a._lange_&_soehne_1/a._lange_&_soehne/1815/a._...  \n3  a._lange_&_soehne_1/a._lange_&_soehne/1815/a._...  \n4  a._lange_&_soehne_1/a._lange_&_soehne/1815/a._...  ",
      "text/html": "<div>\n<style scoped>\n    .dataframe tbody tr th:only-of-type {\n        vertical-align: middle;\n    }\n\n    .dataframe tbody tr th {\n        vertical-align: top;\n    }\n\n    .dataframe thead th {\n        text-align: right;\n    }\n</style>\n<table border=\"1\" class=\"dataframe\">\n  <thead>\n    <tr style=\"text-align: right;\">\n      <th></th>\n      <th>image_size_x</th>\n      <th>image_size_y</th>\n      <th>name</th>\n    </tr>\n  </thead>\n  <tbody>\n    <tr>\n      <th>0</th>\n      <td>800</td>\n      <td>708</td>\n      <td>a._lange_&amp;_soehne_1/a._lange_&amp;_soehne/1815/a._...</td>\n    </tr>\n    <tr>\n      <th>1</th>\n      <td>800</td>\n      <td>731</td>\n      <td>a._lange_&amp;_soehne_1/a._lange_&amp;_soehne/1815/a._...</td>\n    </tr>\n    <tr>\n      <th>2</th>\n      <td>800</td>\n      <td>729</td>\n      <td>a._lange_&amp;_soehne_1/a._lange_&amp;_soehne/1815/a._...</td>\n    </tr>\n    <tr>\n      <th>3</th>\n      <td>800</td>\n      <td>685</td>\n      <td>a._lange_&amp;_soehne_1/a._lange_&amp;_soehne/1815/a._...</td>\n    </tr>\n    <tr>\n      <th>4</th>\n      <td>800</td>\n      <td>708</td>\n      <td>a._lange_&amp;_soehne_1/a._lange_&amp;_soehne/1815/a._...</td>\n    </tr>\n  </tbody>\n</table>\n</div>"
     },
     "metadata": {},
     "execution_count": 10
    }
   ],
   "source": [
    "df_fa_chrono24 = pd.read_csv(fa_chrono24_csv_path)\n",
    "df_fa_chrono24.head()"
   ]
  },
  {
   "cell_type": "code",
   "execution_count": 11,
   "metadata": {},
   "outputs": [
    {
     "output_type": "execute_result",
     "data": {
      "text/plain": "                                                name  dial_visibility  \\\n0  a._lange_&_soehne_1/a._lange_&_soehne/1815/a._...                1   \n1  a._lange_&_soehne_1/a._lange_&_soehne/1815/a._...                1   \n2  a._lange_&_soehne_1/a._lange_&_soehne/1815/a._...                1   \n3  a._lange_&_soehne_1/a._lange_&_soehne/1815/a._...                1   \n4  a._lange_&_soehne_1/a._lange_&_soehne/1815/a._...                1   \n\n   dial_visibility_p_0  dial_visibility_p_1  like  like_p_0  like_p_1  \n0             0.000024             0.999977    -1        -1        -1  \n1             0.002802             0.997198    -1        -1        -1  \n2             0.000682             0.999318    -1        -1        -1  \n3             0.067628             0.932372    -1        -1        -1  \n4             0.000840             0.999160    -1        -1        -1  ",
      "text/html": "<div>\n<style scoped>\n    .dataframe tbody tr th:only-of-type {\n        vertical-align: middle;\n    }\n\n    .dataframe tbody tr th {\n        vertical-align: top;\n    }\n\n    .dataframe thead th {\n        text-align: right;\n    }\n</style>\n<table border=\"1\" class=\"dataframe\">\n  <thead>\n    <tr style=\"text-align: right;\">\n      <th></th>\n      <th>name</th>\n      <th>dial_visibility</th>\n      <th>dial_visibility_p_0</th>\n      <th>dial_visibility_p_1</th>\n      <th>like</th>\n      <th>like_p_0</th>\n      <th>like_p_1</th>\n    </tr>\n  </thead>\n  <tbody>\n    <tr>\n      <th>0</th>\n      <td>a._lange_&amp;_soehne_1/a._lange_&amp;_soehne/1815/a._...</td>\n      <td>1</td>\n      <td>0.000024</td>\n      <td>0.999977</td>\n      <td>-1</td>\n      <td>-1</td>\n      <td>-1</td>\n    </tr>\n    <tr>\n      <th>1</th>\n      <td>a._lange_&amp;_soehne_1/a._lange_&amp;_soehne/1815/a._...</td>\n      <td>1</td>\n      <td>0.002802</td>\n      <td>0.997198</td>\n      <td>-1</td>\n      <td>-1</td>\n      <td>-1</td>\n    </tr>\n    <tr>\n      <th>2</th>\n      <td>a._lange_&amp;_soehne_1/a._lange_&amp;_soehne/1815/a._...</td>\n      <td>1</td>\n      <td>0.000682</td>\n      <td>0.999318</td>\n      <td>-1</td>\n      <td>-1</td>\n      <td>-1</td>\n    </tr>\n    <tr>\n      <th>3</th>\n      <td>a._lange_&amp;_soehne_1/a._lange_&amp;_soehne/1815/a._...</td>\n      <td>1</td>\n      <td>0.067628</td>\n      <td>0.932372</td>\n      <td>-1</td>\n      <td>-1</td>\n      <td>-1</td>\n    </tr>\n    <tr>\n      <th>4</th>\n      <td>a._lange_&amp;_soehne_1/a._lange_&amp;_soehne/1815/a._...</td>\n      <td>1</td>\n      <td>0.000840</td>\n      <td>0.999160</td>\n      <td>-1</td>\n      <td>-1</td>\n      <td>-1</td>\n    </tr>\n  </tbody>\n</table>\n</div>"
     },
     "metadata": {},
     "execution_count": 11
    }
   ],
   "source": [
    "df_dv_inference = pd.read_csv(dv_inference_csv_path)\n",
    "df_dv_inference.head()"
   ]
  },
  {
   "cell_type": "code",
   "execution_count": 14,
   "metadata": {},
   "outputs": [
    {
     "output_type": "execute_result",
     "data": {
      "text/plain": "   image_size_x  image_size_y  \\\n0           800           708   \n1           800           731   \n2           800           729   \n3           800           685   \n4           800           708   \n\n                                                name  dial_visibility  \\\n0  a._lange_&_soehne_1/a._lange_&_soehne/1815/a._...                1   \n1  a._lange_&_soehne_1/a._lange_&_soehne/1815/a._...                1   \n2  a._lange_&_soehne_1/a._lange_&_soehne/1815/a._...                1   \n3  a._lange_&_soehne_1/a._lange_&_soehne/1815/a._...                1   \n4  a._lange_&_soehne_1/a._lange_&_soehne/1815/a._...                1   \n\n   dial_visibility_p_0  dial_visibility_p_1  like  like_p_0  like_p_1  \n0             0.000024             0.999977    -1        -1        -1  \n1             0.002802             0.997198    -1        -1        -1  \n2             0.000682             0.999318    -1        -1        -1  \n3             0.067628             0.932372    -1        -1        -1  \n4             0.000840             0.999160    -1        -1        -1  ",
      "text/html": "<div>\n<style scoped>\n    .dataframe tbody tr th:only-of-type {\n        vertical-align: middle;\n    }\n\n    .dataframe tbody tr th {\n        vertical-align: top;\n    }\n\n    .dataframe thead th {\n        text-align: right;\n    }\n</style>\n<table border=\"1\" class=\"dataframe\">\n  <thead>\n    <tr style=\"text-align: right;\">\n      <th></th>\n      <th>image_size_x</th>\n      <th>image_size_y</th>\n      <th>name</th>\n      <th>dial_visibility</th>\n      <th>dial_visibility_p_0</th>\n      <th>dial_visibility_p_1</th>\n      <th>like</th>\n      <th>like_p_0</th>\n      <th>like_p_1</th>\n    </tr>\n  </thead>\n  <tbody>\n    <tr>\n      <th>0</th>\n      <td>800</td>\n      <td>708</td>\n      <td>a._lange_&amp;_soehne_1/a._lange_&amp;_soehne/1815/a._...</td>\n      <td>1</td>\n      <td>0.000024</td>\n      <td>0.999977</td>\n      <td>-1</td>\n      <td>-1</td>\n      <td>-1</td>\n    </tr>\n    <tr>\n      <th>1</th>\n      <td>800</td>\n      <td>731</td>\n      <td>a._lange_&amp;_soehne_1/a._lange_&amp;_soehne/1815/a._...</td>\n      <td>1</td>\n      <td>0.002802</td>\n      <td>0.997198</td>\n      <td>-1</td>\n      <td>-1</td>\n      <td>-1</td>\n    </tr>\n    <tr>\n      <th>2</th>\n      <td>800</td>\n      <td>729</td>\n      <td>a._lange_&amp;_soehne_1/a._lange_&amp;_soehne/1815/a._...</td>\n      <td>1</td>\n      <td>0.000682</td>\n      <td>0.999318</td>\n      <td>-1</td>\n      <td>-1</td>\n      <td>-1</td>\n    </tr>\n    <tr>\n      <th>3</th>\n      <td>800</td>\n      <td>685</td>\n      <td>a._lange_&amp;_soehne_1/a._lange_&amp;_soehne/1815/a._...</td>\n      <td>1</td>\n      <td>0.067628</td>\n      <td>0.932372</td>\n      <td>-1</td>\n      <td>-1</td>\n      <td>-1</td>\n    </tr>\n    <tr>\n      <th>4</th>\n      <td>800</td>\n      <td>708</td>\n      <td>a._lange_&amp;_soehne_1/a._lange_&amp;_soehne/1815/a._...</td>\n      <td>1</td>\n      <td>0.000840</td>\n      <td>0.999160</td>\n      <td>-1</td>\n      <td>-1</td>\n      <td>-1</td>\n    </tr>\n  </tbody>\n</table>\n</div>"
     },
     "metadata": {},
     "execution_count": 14
    }
   ],
   "source": [
    "df = pd.merge(df_fa_chrono24, df_dv_inference, how='inner', on='name')\n",
    "df.head()"
   ]
  },
  {
   "cell_type": "code",
   "execution_count": 22,
   "metadata": {},
   "outputs": [],
   "source": [
    "df.to_csv(fa_chrono24_merged_csv_path, index=False)"
   ]
  }
 ]
}