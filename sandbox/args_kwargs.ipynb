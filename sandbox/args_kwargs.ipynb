{
 "nbformat": 4,
 "nbformat_minor": 2,
 "metadata": {
  "language_info": {
   "name": "python",
   "codemirror_mode": {
    "name": "ipython",
    "version": 3
   }
  },
  "orig_nbformat": 2,
  "file_extension": ".py",
  "mimetype": "text/x-python",
  "name": "python",
  "npconvert_exporter": "python",
  "pygments_lexer": "ipython3",
  "version": 3
 },
 "cells": [
  {
   "cell_type": "code",
   "execution_count": 52,
   "metadata": {},
   "outputs": [
    {
     "data": {
      "text/plain": "{'name': 'John', 'age': 57, 'sex': 'M', 'height': '190cm', 'weight': '88kg'}"
     },
     "execution_count": 52,
     "metadata": {},
     "output_type": "execute_result"
    }
   ],
   "source": [
    "d = dict(name=\"John\", age=57, sex=\"M\", height=\"190cm\", weight=\"88kg\")\n",
    "d"
   ]
  },
  {
   "cell_type": "code",
   "execution_count": 45,
   "metadata": {},
   "outputs": [
    {
     "name": "stdout",
     "output_type": "stream",
     "text": "name => John\nage => 57\nsex => M\nheight => 190cm\nweight => 88kg\n"
    }
   ],
   "source": [
    "def person(**kwargs):\n",
    "    for key, value in kwargs.items():\n",
    "        print(key, '=>', value)\n",
    "\n",
    "person(**d)\n"
   ]
  },
  {
   "cell_type": "code",
   "execution_count": 48,
   "metadata": {},
   "outputs": [
    {
     "name": "stdout",
     "output_type": "stream",
     "text": "John 57 M 190cm 88kg\n"
    }
   ],
   "source": [
    "def person1(**kwargs):\n",
    "    name = kwargs[\"name\"]\n",
    "    age = kwargs.get(\"age\")\n",
    "    sex = kwargs[\"sex\"]\n",
    "    height = kwargs[\"height\"]\n",
    "    weight = kwargs[\"weight\"]\n",
    "    print(name,age, sex, height, weight)\n",
    "\n",
    "person1(**d)"
   ]
  },
  {
   "cell_type": "code",
   "execution_count": 51,
   "metadata": {},
   "outputs": [
    {
     "data": {
      "text/plain": "(('name', 'age', 'sex'), ('John', '57', 'M'))"
     },
     "execution_count": 51,
     "metadata": {},
     "output_type": "execute_result"
    }
   ],
   "source": [
    "t = ((\"name\", \"John\"), (\"age\", \"57\"), (\"sex\", \"M\"))\n",
    "a,b = zip(*t)\n",
    "a,b"
   ]
  },
  {
   "cell_type": "code",
   "execution_count": null,
   "metadata": {},
   "outputs": [],
   "source": []
  }
 ]
}