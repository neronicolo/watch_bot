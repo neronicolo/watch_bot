{
 "nbformat": 4,
 "nbformat_minor": 2,
 "metadata": {
  "language_info": {
   "name": "python",
   "codemirror_mode": {
    "name": "ipython",
    "version": 3
   },
   "version": "3.7.5"
  },
  "orig_nbformat": 2,
  "file_extension": ".py",
  "mimetype": "text/x-python",
  "name": "python",
  "npconvert_exporter": "python",
  "pygments_lexer": "ipython3",
  "version": 3
 },
 "cells": [
  {
   "cell_type": "code",
   "execution_count": 52,
   "metadata": {},
   "outputs": [
    {
     "data": {
      "text/plain": "{'name': 'John', 'age': 57, 'sex': 'M', 'height': '190cm', 'weight': '88kg'}"
     },
     "execution_count": 52,
     "metadata": {},
     "output_type": "execute_result"
    }
   ],
   "source": [
    "d = dict(name=\"John\", age=57, sex=\"M\", height=\"190cm\", weight=\"88kg\")\n",
    "d"
   ]
  },
  {
   "cell_type": "code",
   "execution_count": 45,
   "metadata": {},
   "outputs": [
    {
     "name": "stdout",
     "output_type": "stream",
     "text": "name => John\nage => 57\nsex => M\nheight => 190cm\nweight => 88kg\n"
    }
   ],
   "source": [
    "def person(**kwargs):\n",
    "    for key, value in kwargs.items():\n",
    "        print(key, '=>', value)\n",
    "\n",
    "person(**d)\n"
   ]
  },
  {
   "cell_type": "code",
   "execution_count": 48,
   "metadata": {},
   "outputs": [
    {
     "name": "stdout",
     "output_type": "stream",
     "text": "John 57 M 190cm 88kg\n"
    }
   ],
   "source": [
    "def person1(**kwargs):\n",
    "    name = kwargs[\"name\"]\n",
    "    age = kwargs.get(\"age\")\n",
    "    sex = kwargs[\"sex\"]\n",
    "    height = kwargs[\"height\"]\n",
    "    weight = kwargs[\"weight\"]\n",
    "    print(name,age, sex, height, weight)\n",
    "\n",
    "person1(**d)"
   ]
  },
  {
   "cell_type": "code",
   "execution_count": 51,
   "metadata": {},
   "outputs": [
    {
     "data": {
      "text/plain": "(('name', 'age', 'sex'), ('John', '57', 'M'))"
     },
     "execution_count": 51,
     "metadata": {},
     "output_type": "execute_result"
    }
   ],
   "source": [
    "t = ((\"name\", \"John\"), (\"age\", \"57\"), (\"sex\", \"M\"))\n",
    "a,b = zip(*t)\n",
    "a,b"
   ]
  },
  {
   "cell_type": "code",
   "execution_count": 40,
   "metadata": {},
   "outputs": [
    {
     "data": {
      "text/plain": "('/home/neronicolo/programming/projects/watch_bot/.git/objects/68/27df8ed4ee973cd55bb8766008480324ec244d'),\n PosixPath('/home/neronicolo/programming/projects/watch_bot/.git/objects/69/71016da2a21cc66e16dab71c3e98ea83dbf67b'),\n PosixPath('/home/neronicolo/programming/projects/watch_bot/.git/objects/6a/41ea59198b639494daf400f115479221f40d12'),\n PosixPath('/home/neronicolo/programming/projects/watch_bot/.git/objects/6b/17bddb38b30363e730fa95827409b041589862'),\n PosixPath('/home/neronicolo/programming/projects/watch_bot/.git/objects/6b/51b5d0ba742bac96a4b4441a3bdd9297783545'),\n PosixPath('/home/neronicolo/programming/projects/watch_bot/.git/objects/6b/d881aa015040ba621b7016db2c6be96f1ce321'),\n PosixPath('/home/neronicolo/programming/projects/watch_bot/.git/objects/6c/1d98b81e33f1be1ac339e6ef6f3a7e8e0d0bf2'),\n PosixPath('/home/neronicolo/programming/projects/watch_bot/.git/objects/6f/2f9c8272c35d8cd777f71fb19eb1d93c0a5698'),\n PosixPath('/home/neronicolo/programming/projects/watch_bot/.git/objects/6f/31804e8fba6c09819446423c6249c7f26ab128'),\n PosixPath('/home/neronicolo/programming/projects/watch_bot/.git/objects/71/8b0d6b9838b27672386f35767ea96c2d6cfd0e'),\n PosixPath('/home/neronicolo/programming/projects/watch_bot/.git/objects/71/8c08e44a1d3e4de31cb336094a34ffc7d51f66'),\n PosixPath('/home/neronicolo/programming/projects/watch_bot/.git/objects/74/7b9cb203032eb28bd13a43448975463e3ad54e'),\n PosixPath('/home/neronicolo/programming/projects/watch_bot/.git/objects/74/af218fc36b0530638930bbd7fd848ef8294137'),\n PosixPath('/home/neronicolo/programming/projects/watch_bot/.git/objects/77/b15cdcb0a5ef15d79e1bea9ce30d1b76efccc9'),\n PosixPath('/home/neronicolo/programming/projects/watch_bot/.git/objects/79/62ae8b04b3bb8d5ecc13fe4a5157e886995955'),\n PosixPath('/home/neronicolo/programming/projects/watch_bot/.git/objects/7d/847f26a7f04be0fb906fc59683fd118a7afe9a'),\n PosixPath('/home/neronicolo/programming/projects/watch_bot/.git/objects/7e/d4fb1076eaa4484ee8c9e27b116d7d4febab74'),\n PosixPath('/home/neronicolo/programming/projects/watch_bot/.git/objects/7f/e6168854611382f75c60c45c15805b9b687e90'),\n PosixPath('/home/neronicolo/programming/projects/watch_bot/.git/objects/80/80e841057cb49822a3a210464f5a92e3208612'),\n PosixPath('/home/neronicolo/programming/projects/watch_bot/.git/objects/80/ec0cd72fbed11687dd05a3d1c1079f044d009b'),\n PosixPath('/home/neronicolo/programming/projects/watch_bot/.git/objects/81/2f4c22ef5834d2c8db9f28b9810b57aad282e9'),\n PosixPath('/home/neronicolo/programming/projects/watch_bot/.git/objects/83/4d9b86c52b5eede7c69a4c6b99e2b52f58c3f6'),\n PosixPath('/home/neronicolo/programming/projects/watch_bot/.git/objects/83/5f7e5f793a529614001514cf078cae6c933b1b'),\n PosixPath('/home/neronicolo/programming/projects/watch_bot/.git/objects/85/277febc73d70d98752809ffb163825d6b09c2e'),\n PosixPath('/home/neronicolo/programming/projects/watch_bot/.git/objects/87/8e67f3b8c922d9cb7f4f93e9630d2e59b0d8dd'),\n PosixPath('/home/neronicolo/programming/projects/watch_bot/.git/objects/87/b4a7056081804fcd33da24c01528c301c83a9c'),\n PosixPath('/home/neronicolo/programming/projects/watch_bot/.git/objects/88/fb2acb7a95d2fa40b2480cb0924bf76369191d'),\n PosixPath('/home/neronicolo/programming/projects/watch_bot/.git/objects/89/60bce5915dd422bd17c526991f110129696b99'),\n PosixPath('/home/neronicolo/programming/projects/watch_bot/.git/objects/89/7ccb15600cb24d55595ae166e5e57846e7acdb'),\n PosixPath('/home/neronicolo/programming/projects/watch_bot/.git/objects/89/d6725de72d8274aed8a87b4339587d009e258f'),\n PosixPath('/home/neronicolo/programming/projects/watch_bot/.git/objects/89/ee4142398a08855f839c527b36f4a10bcebf54'),\n PosixPath('/home/neronicolo/programming/projects/watch_bot/.git/objects/8a/5a93105ff701485ab72922cf59126dbb2fe2b3'),\n PosixPath('/home/neronicolo/programming/projects/watch_bot/.git/objects/8a/cf210829cb561e466c9a941c265710817333bf'),\n PosixPath('/home/neronicolo/programming/projects/watch_bot/.git/objects/8c/6ad10e78e90c92047c894a511806054d9d6265'),\n PosixPath('/home/neronicolo/programming/projects/watch_bot/.git/objects/8d/55d1eac1c02052c0b6d902ed3110e9ee7df012'),\n PosixPath('/home/neronicolo/programming/projects/watch_bot/.git/objects/8d/8cbd6dde30143690cfb60a7e07ca3434508711'),\n PosixPath('/home/neronicolo/programming/projects/watch_bot/.git/objects/8d/d0e96839d6918d9bbc9c743f5542ef58551d44'),\n PosixPath('/home/neronicolo/programming/projects/watch_bot/.git/objects/8e/7923a772cfefeb5876464126479741faf40f38'),\n PosixPath('/home/neronicolo/programming/projects/watch_bot/.git/objects/90/94256c11f47f07a5de631fef63054a58831028'),\n PosixPath('/home/neronicolo/programming/projects/watch_bot/.git/objects/92/329a99e7f01919f4e49e8823fba90f0493d684'),\n PosixPath('/home/neronicolo/programming/projects/watch_bot/.git/objects/92/5d1e255a30e2ddddd2c109fec38d92098ac3be'),\n PosixPath('/home/neronicolo/programming/projects/watch_bot/.git/objects/95/64ace2b16c0b239a66fbd0e0bf4e2bab6b5ad5'),\n PosixPath('/home/neronicolo/programming/projects/watch_bot/.git/objects/95/eac574318239655691df9b926ba13cd2e85c5a'),\n PosixPath('/home/neronicolo/programming/projects/watch_bot/.git/objects/98/6c5ba918d7cd6d4dffc3c35b5054746adf44fb'),\n PosixPath('/home/neronicolo/programming/projects/watch_bot/.git/objects/98/c1d3f069603b2c9cd639922e0fd100464691e6'),\n PosixPath('/home/neronicolo/programming/projects/watch_bot/.git/objects/98/e4ba04919eebeace3233b48daf919d965334e5'),\n PosixPath('/home/neronicolo/programming/projects/watch_bot/.git/objects/99/b770db831bdd9a24d36f209512b09eeadff583'),\n PosixPath('/home/neronicolo/programming/projects/watch_bot/.git/objects/99/c944939e890e7d369a8007cc7862b511d3e7c5'),\n PosixPath('/home/neronicolo/programming/projects/watch_bot/.git/objects/a0/532ed21835b1068202f4376410e7e019c02c39'),\n PosixPath('/home/neronicolo/programming/projects/watch_bot/.git/objects/a2/41aab29ae81fca458cf9cba284de291df398dc'),\n PosixPath('/home/neronicolo/programming/projects/watch_bot/.git/objects/a4/bbfcaf75fd421108f79ae746757ae9143d3e3c'),\n PosixPath('/home/neronicolo/programming/projects/watch_bot/.git/objects/a7/35ff5a5b2d14e722c5a6b431c9772eea011e13'),\n PosixPath('/home/neronicolo/programming/projects/watch_bot/.git/objects/a8/cb9b0bd34cacb2319d9f0f8ffa0d36587490e1'),\n PosixPath('/home/neronicolo/programming/projects/watch_bot/.git/objects/a9/38b7ea6e4a043cc8c55b9690a416074f4703ed'),\n PosixPath('/home/neronicolo/programming/projects/watch_bot/.git/objects/aa/47cad881c5ed41b5bc3ffef63e7eacc3b7a550'),\n PosixPath('/home/neronicolo/programming/projects/watch_bot/.git/objects/aa/5a4af070ff26f2f62e4fbd244b7f70c88c4d09'),\n PosixPath('/home/neronicolo/programming/projects/watch_bot/.git/objects/aa/82eddc7a39067ddf61316ee25e1b71c783978b'),\n PosixPath('/home/neronicolo/programming/projects/watch_bot/.git/objects/ab/f20a5d84d1e682291e89156314a7990b49d9cc'),\n PosixPath('/home/neronicolo/programming/projects/watch_bot/.git/objects/ac/6078f815cef77c4f647b21e3d3a69e9a6ae92b'),\n PosixPath('/home/neronicolo/programming/projects/watch_bot/.git/objects/ac/6406b0a72d4537733141d5f5512888fe87d62e'),\n PosixPath('/home/neronicolo/programming/projects/watch_bot/.git/objects/ac/67c30780d99dcaa544845229cd3e3726730b88'),\n PosixPath('/home/neronicolo/programming/projects/watch_bot/.git/objects/ac/803b3c3339d78c9bac1fff9f6473384c8fdf5b'),\n PosixPath('/home/neronicolo/programming/projects/watch_bot/.git/objects/ad/cfe98b4df933bbffa971bad5842f94c541fa3b'),\n PosixPath('/home/neronicolo/programming/projects/watch_bot/.git/objects/ae/4f314763403df8caee77dca141d67f814b0cc1'),\n PosixPath('/home/neronicolo/programming/projects/watch_bot/.git/objects/af/03b81181b8c73a8524a25310bf29c37d0d1955'),\n PosixPath('/home/neronicolo/programming/projects/watch_bot/.git/objects/af/62d5e43a64aac801d587216de97d601182bcd6'),\n PosixPath('/home/neronicolo/programming/projects/watch_bot/.git/objects/af/f93f4f0457b29bdaad530a98a810d9e749966a'),\n PosixPath('/home/neronicolo/programming/projects/watch_bot/.git/objects/b2/0c6271aaf797d9f08b6105ca0832e8644df47b'),\n PosixPath('/home/neronicolo/programming/projects/watch_bot/.git/objects/b2/4032b01d670ba82fae656bbb239dee21312c11'),\n PosixPath('/home/neronicolo/programming/projects/watch_bot/.git/objects/b3/1339cb97e20180f20459a09feaa37f4b4f93eb'),\n PosixPath('/home/neronicolo/programming/projects/watch_bot/.git/objects/b3/abf853c2bf192bc78eecea3d59a2367565dac1'),\n PosixPath('/home/neronicolo/programming/projects/watch_bot/.git/objects/b3/ca20e700f897e3396c91fc9f3bca33a900e634'),\n PosixPath('/home/neronicolo/programming/projects/watch_bot/.git/objects/b3/e6374ca2051ab841f760f4d32a7c2c1c5df117'),\n PosixPath('/home/neronicolo/programming/projects/watch_bot/.git/objects/b4/278c68c2817a59a88e79531b6b7fd2fe1f223e'),\n PosixPath('/home/neronicolo/programming/projects/watch_bot/.git/objects/b4/cb221b937bb074cc6ff6f18440f82f4b9271c3'),\n PosixPath('/home/neronicolo/programming/projects/watch_bot/.git/objects/b4/f961d7c461e0b237598eb87d555018dd810a03'),\n PosixPath('/home/neronicolo/programming/projects/watch_bot/.git/objects/b4/fa2bdeb24926bde9f8e001e4bd4a78807b1b1e'),\n PosixPath('/home/neronicolo/programming/projects/watch_bot/.git/objects/b5/725d0cadcdcd46ee7fc2f46e01034472f5aedb'),\n PosixPath('/home/neronicolo/programming/projects/watch_bot/.git/objects/b5/927defe21822e7955e89c60c4b53efbbf8cf2e'),\n PosixPath('/home/neronicolo/programming/projects/watch_bot/.git/objects/b7/6365b89d2d85d9121bcf2464c8b4e8fa3d3ae3'),\n PosixPath('/home/neronicolo/programming/projects/watch_bot/.git/objects/b8/3e85bbde338c7f102317e8c80bfa83ecc31b38'),\n PosixPath('/home/neronicolo/programming/projects/watch_bot/.git/objects/b9/1f377834c027dd368894e24427da40207c25de'),\n PosixPath('/home/neronicolo/programming/projects/watch_bot/.git/objects/b9/dbf285be2e4b80f8aee79bbdc79f7099237acf'),\n PosixPath('/home/neronicolo/programming/projects/watch_bot/.git/objects/ba/79aab63c15ddb9009b646e28733139783dd7a5'),\n PosixPath('/home/neronicolo/programming/projects/watch_bot/.git/objects/ba/e03037279f594ad2a8b1370f7f183a6378a176'),\n PosixPath('/home/neronicolo/programming/projects/watch_bot/.git/objects/ba/fbc133337ec48155a3055bc4064547c79f8bfb'),\n PosixPath('/home/neronicolo/programming/projects/watch_bot/.git/objects/bb/610c73c275ee07419642ae1bf7313cee51553d'),\n PosixPath('/home/neronicolo/programming/projects/watch_bot/.git/objects/bd/44183dfe8e08cc3619e56b2a772ffd37864edf'),\n PosixPath('/home/neronicolo/programming/projects/watch_bot/.git/objects/be/4d2d2bfb209e8bb31275c139ad16f3b9c0e438'),\n PosixPath('/home/neronicolo/programming/projects/watch_bot/.git/objects/be/826922ae5bdacd0177b005625060ff18be4cb7'),\n PosixPath('/home/neronicolo/programming/projects/watch_bot/.git/objects/be/fc7ea84a702a31cc38aaea11926bb82a98cfa6'),\n PosixPath('/home/neronicolo/programming/projects/watch_bot/.git/objects/c1/cbee580531dd5f2c714046af339439a1c8d05d'),\n PosixPath('/home/neronicolo/programming/projects/watch_bot/.git/objects/c4/26efc2b463c715448a1cc6e1c05f83e4eab647'),\n PosixPath('/home/neronicolo/programming/projects/watch_bot/.git/objects/c6/7698e74a9abacfc70129d238cf866fb668ca30'),\n PosixPath('/home/neronicolo/programming/projects/watch_bot/.git/objects/c6/f9a448eb7fb8cad82464e2037ee1b0992bd590'),\n PosixPath('/home/neronicolo/programming/projects/watch_bot/.git/objects/c7/12bcc5a7466a6dec250e47856665bd081c44aa'),\n PosixPath('/home/neronicolo/programming/projects/watch_bot/.git/objects/c7/730014dcb03fed4092c28b75d933818682788e'),\n PosixPath('/home/neronicolo/programming/projects/watch_bot/.git/objects/c8/c9825247c7b2a3f6a60ca17b27e67c2b0309fe'),\n PosixPath('/home/neronicolo/programming/projects/watch_bot/.git/objects/c9/72509da47dc79d46b076106539f157f57ea356'),\n PosixPath('/home/neronicolo/programming/projects/watch_bot/.git/objects/ca/649f11cdcd7813fcd98a4568971a2189c8819d'),\n PosixPath('/home/neronicolo/programming/projects/watch_bot/.git/objects/ca/cfe4aa7a5809d03641543e0d02189c14a38452'),\n PosixPath('/home/neronicolo/programming/projects/watch_bot/.git/objects/cb/348c51b7366bbdd48f22e0059fd3bdad367e05'),\n PosixPath('/home/neronicolo/programming/projects/watch_bot/.git/objects/cb/b96c2072a0ce5c10d673cbc06e9d9d1235358d'),\n PosixPath('/home/neronicolo/programming/projects/watch_bot/.git/objects/cc/5a15b87ec1a78876a87a2ef8b28b2bb49be888'),\n PosixPath('/home/neronicolo/programming/projects/watch_bot/.git/objects/cc/718a40f720129393590844bcf025d5218f7eb8'),\n PosixPath('/home/neronicolo/programming/projects/watch_bot/.git/objects/cc/f20edc5ba5ca51dbd9d3c576701b7d5f8e98b1'),\n PosixPath('/home/neronicolo/programming/projects/watch_bot/.git/objects/cc/f22f36ab7b6634e0ad8c1b3ff7401a7eef096d'),\n PosixPath('/home/neronicolo/programming/projects/watch_bot/.git/objects/cd/51ca99f4410230843763f6a2e409a7cb2f39df'),\n PosixPath('/home/neronicolo/programming/projects/watch_bot/.git/objects/cd/83006de9a35b82ab4b007a4a1dd95af5a30fbe'),\n PosixPath('/home/neronicolo/programming/projects/watch_bot/.git/objects/ce/a196b9f00dcbaa4cebcf4a6492da63743f478a'),\n PosixPath('/home/neronicolo/programming/projects/watch_bot/.git/objects/cf/cfc1677f4b0c29e48b4638fbc5154e5f44b095'),\n PosixPath('/home/neronicolo/programming/projects/watch_bot/.git/objects/d0/b5f0cd79e6b1d44c9027597c6e83bfefe1320f'),\n PosixPath('/home/neronicolo/programming/projects/watch_bot/.git/objects/d1/e60147c65e3d029240a94b097211dfa71823fb'),\n PosixPath('/home/neronicolo/programming/projects/watch_bot/.git/objects/d2/d944c12f97fd913d151e45c68a422f71f2d54b'),\n PosixPath('/home/neronicolo/programming/projects/watch_bot/.git/objects/d3/06a754fb3e1c0a62f432f015994052071d5bd1'),\n PosixPath('/home/neronicolo/programming/projects/watch_bot/.git/objects/d4/298a8d55d9c9957195dcba5947ef0fa2b69476'),\n PosixPath('/home/neronicolo/programming/projects/watch_bot/.git/objects/d5/5b978fe0981021a7b641f864c612177fdfe18d'),\n PosixPath('/home/neronicolo/programming/projects/watch_bot/.git/objects/d6/ba302a098302e2a76e622fb3630b1941a1ffae'),\n PosixPath('/home/neronicolo/programming/projects/watch_bot/.git/objects/d8/1f4c35ce3f7821415c5f2f6ae2896fced0c623'),\n PosixPath('/home/neronicolo/programming/projects/watch_bot/.git/objects/d9/75f4a47bbfa0734660c5caf3826933439c58dc'),\n PosixPath('/home/neronicolo/programming/projects/watch_bot/.git/objects/db/4d772253a207eb3cf2b1075c922692f73f163c'),\n PosixPath('/home/neronicolo/programming/projects/watch_bot/.git/objects/db/cf0c13dd7f095bc390a4a02251faf2b4952ce3'),\n PosixPath('/home/neronicolo/programming/projects/watch_bot/.git/objects/dd/7691410695c990e9088de1ae8e662e370e1336'),\n PosixPath('/home/neronicolo/programming/projects/watch_bot/.git/objects/de/ef18ee902caadc538840ae65e5ddb49761be20'),\n PosixPath('/home/neronicolo/programming/projects/watch_bot/.git/objects/df/990fc3e8f49aae6bb1dee968840fbec82ebf5f'),\n PosixPath('/home/neronicolo/programming/projects/watch_bot/.git/objects/e0/3ce617bbe8985f9062f2f137610a4aa6f008be'),\n PosixPath('/home/neronicolo/programming/projects/watch_bot/.git/objects/e0/819104e07f9ab6a6b5076ea4b2afd671cbc0aa'),\n PosixPath('/home/neronicolo/programming/projects/watch_bot/.git/objects/e1/47cbee3bf1aa507d9db1b0b05f7e699c613f6e'),\n PosixPath('/home/neronicolo/programming/projects/watch_bot/.git/objects/e3/67cb0862b3300325d1d01e99e9cc4f9f39d222'),\n PosixPath('/home/neronicolo/programming/projects/watch_bot/.git/objects/e4/14920626edf5fb2e33941a137c7251f4d4fe9a'),\n PosixPath('/home/neronicolo/programming/projects/watch_bot/.git/objects/e5/d6b70ef45de9ffb095189de33dfa31addbb132'),\n PosixPath('/home/neronicolo/programming/projects/watch_bot/.git/objects/e5/eebf85b22a9b65ea848543a9b2d72ee853b518'),\n PosixPath('/home/neronicolo/programming/projects/watch_bot/.git/objects/e6/c886240e44853d2dbd2317bfed8866493d5587'),\n PosixPath('/home/neronicolo/programming/projects/watch_bot/.git/objects/e7/cf5ca29db737d88c994ec6c5606af47a19eb88'),\n PosixPath('/home/neronicolo/programming/projects/watch_bot/.git/objects/e8/fd4c34fcb44130ed869d87be2bc6b8bc20fa66'),\n PosixPath('/home/neronicolo/programming/projects/watch_bot/.git/objects/ea/354aae431c0257d8885f083e63cfaa67fd0e7d'),\n PosixPath('/home/neronicolo/programming/projects/watch_bot/.git/objects/eb/b82406cde7577c8f11d5b3eb0379f6faa2baf8'),\n PosixPath('/home/neronicolo/programming/projects/watch_bot/.git/objects/ec/38dc9d3be3f847e4908c88af8fef4a0b897121'),\n PosixPath('/home/neronicolo/programming/projects/watch_bot/.git/objects/ec/4576b82e4dd4e35597be028567807ccfaf5624'),\n PosixPath('/home/neronicolo/programming/projects/watch_bot/.git/objects/ec/e90a4a0275f9640af5090c674e1d8feec678c0'),\n PosixPath('/home/neronicolo/programming/projects/watch_bot/.git/objects/ed/5ff02e3dc7754449cf5dc37e8400b767316e13'),\n PosixPath('/home/neronicolo/programming/projects/watch_bot/.git/objects/ef/f99886c57c0f33346a451c021b227d86629b70'),\n PosixPath('/home/neronicolo/programming/projects/watch_bot/.git/objects/f2/5902a4f45dbaaa91b69f9d8dfa8096e4cf65d8'),\n PosixPath('/home/neronicolo/programming/projects/watch_bot/.git/objects/f2/9025d11625765f73a609b6031e1960aa9ad9d4'),\n PosixPath('/home/neronicolo/programming/projects/watch_bot/.git/objects/f3/ec204b918c06c7306a20420c8d992d7df4b875'),\n PosixPath('/home/neronicolo/programming/projects/watch_bot/.git/objects/f4/138d96ab6a72906c976289de0603fc9d5121b1'),\n PosixPath('/home/neronicolo/programming/projects/watch_bot/.git/objects/f4/4682e80fef33b92b1ad14a95447a899110fe28'),\n PosixPath('/home/neronicolo/programming/projects/watch_bot/.git/objects/f5/6a814620e6acb6f217f07c9e33cf7dc8ac70bd'),\n PosixPath('/home/neronicolo/programming/projects/watch_bot/.git/objects/f6/522a7a1e81ba4d922e80aefb0e2045d962d50c'),\n PosixPath('/home/neronicolo/programming/projects/watch_bot/.git/objects/f7/7c7acfc77c9daea2ec42686f88d983b9b08af4'),\n PosixPath('/home/neronicolo/programming/projects/watch_bot/.git/objects/f7/83dcc2b9e526d4ced203c5a43c51e0a32b1124'),\n PosixPath('/home/neronicolo/programming/projects/watch_bot/.git/objects/f8/046e2c4632c977a3c86218cb6fd01b36790bfe'),\n PosixPath('/home/neronicolo/programming/projects/watch_bot/.git/objects/f8/5688a9ba681d9a8ba93309bff4029da5e1c085'),\n PosixPath('/home/neronicolo/programming/projects/watch_bot/.git/objects/fc/22dad61bb8a24d66b5a4971cd62066f5098494'),\n PosixPath('/home/neronicolo/programming/projects/watch_bot/.git/objects/fd/08d02a8f694941a08f312036badbbdf9f9a7f9'),\n PosixPath('/home/neronicolo/programming/projects/watch_bot/.git/objects/fd/2322f789af74da25438176f479b1741d25406e'),\n PosixPath('/home/neronicolo/programming/projects/watch_bot/.git/objects/fd/89e8e0e06d275c55286a432ac79e81bde6ee1d'),\n PosixPath('/home/neronicolo/programming/projects/watch_bot/.git/objects/ff/1e1ecacd61f6f96c493aa780914fca4b7f82e9'),\n PosixPath('/home/neronicolo/programming/projects/watch_bot/.git/objects/pack/pack-1d8b851a95ab3648be51c57d2bc554a20d4512f5.idx'),\n PosixPath('/home/neronicolo/programming/projects/watch_bot/.git/objects/pack/pack-1d8b851a95ab3648be51c57d2bc554a20d4512f5.pack'),\n PosixPath('/home/neronicolo/programming/projects/watch_bot/.git/refs/heads/master'),\n PosixPath('/home/neronicolo/programming/projects/watch_bot/.git/refs/remotes/origin'),\n PosixPath('/home/neronicolo/programming/projects/watch_bot/.git/refs/remotes/origin/HEAD'),\n PosixPath('/home/neronicolo/programming/projects/watch_bot/.git/refs/remotes/origin/master'),\n PosixPath('/home/neronicolo/programming/projects/watch_bot/.vscode/.ropeproject/config.py'),\n PosixPath('/home/neronicolo/programming/projects/watch_bot/.vscode/.ropeproject/objectdb'),\n PosixPath('/home/neronicolo/programming/projects/watch_bot/automate_boring_stuff/files/example.csv'),\n PosixPath('/home/neronicolo/programming/projects/watch_bot/automate_boring_stuff/files/output.csv'),\n PosixPath('/home/neronicolo/programming/projects/watch_bot/automate_boring_stuff/files/quiz_files'),\n PosixPath('/home/neronicolo/programming/projects/watch_bot/automate_boring_stuff/files/quiz_files/capitalsquiz1.txt'),\n PosixPath('/home/neronicolo/programming/projects/watch_bot/automate_boring_stuff/files/quiz_files/capitalsquiz_answers1.txt')]"
     },
     "execution_count": 40,
     "metadata": {},
     "output_type": "execute_result"
    }
   ],
   "source": [
    "import itertools\n",
    "from pathlib import Path\n",
    "\n",
    "dir_path = Path.home()/'programming/data/watch_bot/nomos_1/nomos/_without_model'\n",
    "dir_path = Path.home()/'programming/projects/watch_bot/'\n",
    "\n",
    "file_list = (list(dir_path.rglob('*/*')))\n",
    "file_list"
   ]
  },
  {
   "cell_type": "code",
   "execution_count": null,
   "metadata": {},
   "outputs": [],
   "source": []
  }
 ]
}