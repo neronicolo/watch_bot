{
 "nbformat": 4,
 "nbformat_minor": 2,
 "metadata": {
  "language_info": {
   "name": "python",
   "codemirror_mode": {
    "name": "ipython",
    "version": 3
   },
   "version": "3.6.10-final"
  },
  "orig_nbformat": 2,
  "file_extension": ".py",
  "mimetype": "text/x-python",
  "name": "python",
  "npconvert_exporter": "python",
  "pygments_lexer": "ipython3",
  "version": 3,
  "kernelspec": {
   "name": "python361064bitfastaiconda9e9aa83e7aff4252912fb4ee417026de",
   "display_name": "Python 3.6.10 64-bit ('fastai': conda)"
  }
 },
 "cells": [
  {
   "cell_type": "code",
   "execution_count": 1,
   "metadata": {},
   "outputs": [],
   "source": [
    "from fastai.vision import *"
   ]
  },
  {
   "cell_type": "code",
   "execution_count": 2,
   "metadata": {},
   "outputs": [],
   "source": [
    "data_path = Path.home()/'programming/data/chrono24'\n",
    "file_inference_csv_path = data_path/'dial_visibility_inference.csv'\n",
    "fix_uncertain_csv_path = Path.home()/'programming/projects/watch_bot/inference/fix_most_uncertain.csv'"
   ]
  },
  {
   "cell_type": "code",
   "execution_count": 3,
   "metadata": {},
   "outputs": [
    {
     "output_type": "execute_result",
     "data": {
      "text/plain": "                                                name  dial_visibility  \\\n0  a._lange_&_soehne_1/a._lange_&_soehne/1815/a._...                1   \n1  a._lange_&_soehne_1/a._lange_&_soehne/1815/a._...                1   \n2  a._lange_&_soehne_1/a._lange_&_soehne/1815/a._...                1   \n3  a._lange_&_soehne_1/a._lange_&_soehne/1815/a._...                1   \n4  a._lange_&_soehne_1/a._lange_&_soehne/1815/a._...                1   \n\n   dial_visibility_p_0  dial_visibility_p_1  like  like_p_0  like_p_1  \n0             0.000024             0.999977    -1        -1        -1  \n1             0.002802             0.997198    -1        -1        -1  \n2             0.000682             0.999318    -1        -1        -1  \n3             0.067628             0.932372    -1        -1        -1  \n4             0.000840             0.999160    -1        -1        -1  ",
      "text/html": "<div>\n<style scoped>\n    .dataframe tbody tr th:only-of-type {\n        vertical-align: middle;\n    }\n\n    .dataframe tbody tr th {\n        vertical-align: top;\n    }\n\n    .dataframe thead th {\n        text-align: right;\n    }\n</style>\n<table border=\"1\" class=\"dataframe\">\n  <thead>\n    <tr style=\"text-align: right;\">\n      <th></th>\n      <th>name</th>\n      <th>dial_visibility</th>\n      <th>dial_visibility_p_0</th>\n      <th>dial_visibility_p_1</th>\n      <th>like</th>\n      <th>like_p_0</th>\n      <th>like_p_1</th>\n    </tr>\n  </thead>\n  <tbody>\n    <tr>\n      <th>0</th>\n      <td>a._lange_&amp;_soehne_1/a._lange_&amp;_soehne/1815/a._...</td>\n      <td>1</td>\n      <td>0.000024</td>\n      <td>0.999977</td>\n      <td>-1</td>\n      <td>-1</td>\n      <td>-1</td>\n    </tr>\n    <tr>\n      <th>1</th>\n      <td>a._lange_&amp;_soehne_1/a._lange_&amp;_soehne/1815/a._...</td>\n      <td>1</td>\n      <td>0.002802</td>\n      <td>0.997198</td>\n      <td>-1</td>\n      <td>-1</td>\n      <td>-1</td>\n    </tr>\n    <tr>\n      <th>2</th>\n      <td>a._lange_&amp;_soehne_1/a._lange_&amp;_soehne/1815/a._...</td>\n      <td>1</td>\n      <td>0.000682</td>\n      <td>0.999318</td>\n      <td>-1</td>\n      <td>-1</td>\n      <td>-1</td>\n    </tr>\n    <tr>\n      <th>3</th>\n      <td>a._lange_&amp;_soehne_1/a._lange_&amp;_soehne/1815/a._...</td>\n      <td>1</td>\n      <td>0.067628</td>\n      <td>0.932372</td>\n      <td>-1</td>\n      <td>-1</td>\n      <td>-1</td>\n    </tr>\n    <tr>\n      <th>4</th>\n      <td>a._lange_&amp;_soehne_1/a._lange_&amp;_soehne/1815/a._...</td>\n      <td>1</td>\n      <td>0.000840</td>\n      <td>0.999160</td>\n      <td>-1</td>\n      <td>-1</td>\n      <td>-1</td>\n    </tr>\n  </tbody>\n</table>\n</div>"
     },
     "metadata": {},
     "execution_count": 3
    }
   ],
   "source": [
    "df = pd.read_csv(file_inference_csv_path)\n",
    "df.head()"
   ]
  },
  {
   "cell_type": "code",
   "execution_count": 4,
   "metadata": {},
   "outputs": [
    {
     "output_type": "execute_result",
     "data": {
      "text/plain": "(9281, 7)"
     },
     "metadata": {},
     "execution_count": 4
    }
   ],
   "source": [
    "treshold = 0.55\n",
    "df_most_uncertain = df[(df['dial_visibility_p_0'] < treshold) & (df['dial_visibility_p_1'] < treshold)]\n",
    "df_most_uncertain.shape"
   ]
  },
  {
   "cell_type": "code",
   "execution_count": 5,
   "metadata": {},
   "outputs": [
    {
     "output_type": "execute_result",
     "data": {
      "text/plain": "                                                  name  dial_visibility  \\\n97   a._lange_&_soehne_1/a._lange_&_soehne/1815/a._...                1   \n173  a._lange_&_soehne_1/a._lange_&_soehne/1815/a._...                1   \n215  a._lange_&_soehne_1/a._lange_&_soehne/1815/a._...                1   \n218  a._lange_&_soehne_1/a._lange_&_soehne/1815/a._...                1   \n221  a._lange_&_soehne_1/a._lange_&_soehne/1815/a._...                1   \n\n     dial_visibility_p_0  dial_visibility_p_1  like  like_p_0  like_p_1  \n97              0.473409             0.526591    -1        -1        -1  \n173             0.480346             0.519654    -1        -1        -1  \n215             0.471942             0.528058    -1        -1        -1  \n218             0.477966             0.522034    -1        -1        -1  \n221             0.471942             0.528058    -1        -1        -1  ",
      "text/html": "<div>\n<style scoped>\n    .dataframe tbody tr th:only-of-type {\n        vertical-align: middle;\n    }\n\n    .dataframe tbody tr th {\n        vertical-align: top;\n    }\n\n    .dataframe thead th {\n        text-align: right;\n    }\n</style>\n<table border=\"1\" class=\"dataframe\">\n  <thead>\n    <tr style=\"text-align: right;\">\n      <th></th>\n      <th>name</th>\n      <th>dial_visibility</th>\n      <th>dial_visibility_p_0</th>\n      <th>dial_visibility_p_1</th>\n      <th>like</th>\n      <th>like_p_0</th>\n      <th>like_p_1</th>\n    </tr>\n  </thead>\n  <tbody>\n    <tr>\n      <th>97</th>\n      <td>a._lange_&amp;_soehne_1/a._lange_&amp;_soehne/1815/a._...</td>\n      <td>1</td>\n      <td>0.473409</td>\n      <td>0.526591</td>\n      <td>-1</td>\n      <td>-1</td>\n      <td>-1</td>\n    </tr>\n    <tr>\n      <th>173</th>\n      <td>a._lange_&amp;_soehne_1/a._lange_&amp;_soehne/1815/a._...</td>\n      <td>1</td>\n      <td>0.480346</td>\n      <td>0.519654</td>\n      <td>-1</td>\n      <td>-1</td>\n      <td>-1</td>\n    </tr>\n    <tr>\n      <th>215</th>\n      <td>a._lange_&amp;_soehne_1/a._lange_&amp;_soehne/1815/a._...</td>\n      <td>1</td>\n      <td>0.471942</td>\n      <td>0.528058</td>\n      <td>-1</td>\n      <td>-1</td>\n      <td>-1</td>\n    </tr>\n    <tr>\n      <th>218</th>\n      <td>a._lange_&amp;_soehne_1/a._lange_&amp;_soehne/1815/a._...</td>\n      <td>1</td>\n      <td>0.477966</td>\n      <td>0.522034</td>\n      <td>-1</td>\n      <td>-1</td>\n      <td>-1</td>\n    </tr>\n    <tr>\n      <th>221</th>\n      <td>a._lange_&amp;_soehne_1/a._lange_&amp;_soehne/1815/a._...</td>\n      <td>1</td>\n      <td>0.471942</td>\n      <td>0.528058</td>\n      <td>-1</td>\n      <td>-1</td>\n      <td>-1</td>\n    </tr>\n  </tbody>\n</table>\n</div>"
     },
     "metadata": {},
     "execution_count": 5
    }
   ],
   "source": [
    "df_most_uncertain.head()"
   ]
  },
  {
   "cell_type": "code",
   "execution_count": null,
   "metadata": {},
   "outputs": [],
   "source": [
    "df_most_uncertain['dial_visibility']"
   ]
  },
  {
   "cell_type": "code",
   "execution_count": null,
   "metadata": {},
   "outputs": [],
   "source": []
  }
 ]
}